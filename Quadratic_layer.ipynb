{
 "cells": [
  {
   "cell_type": "markdown",
   "id": "b1b3ee07",
   "metadata": {},
   "source": [
    "## Quadratic custom layer"
   ]
  },
  {
   "cell_type": "markdown",
   "id": "b1ee689f",
   "metadata": {},
   "source": [
    "Assignment part of the TensorFlow: Advanced Techniques especialization\n",
    "\n",
    "custom quadratic layer which computes 𝑦=𝑎𝑥2+𝑏𝑥+𝑐"
   ]
  },
  {
   "cell_type": "code",
   "execution_count": 2,
   "id": "77ea19c4",
   "metadata": {},
   "outputs": [],
   "source": [
    "import tensorflow as tf\n",
    "from tensorflow.keras.layers import Layer\n"
   ]
  },
  {
   "cell_type": "code",
   "execution_count": 11,
   "id": "f3b7cf79",
   "metadata": {},
   "outputs": [],
   "source": [
    "class SimpleQuadratic(Layer):\n",
    "    def __init__(self, units = 32, activation = None):\n",
    "        super(SimpleQuadratic, self).__init__()\n",
    "        self.units = units\n",
    "        self.activation = tf.keras.activations.get(activation)\n",
    "        \n",
    "    def build(self, input_shape):\n",
    "        a_init = tf.random_normal_initializer()\n",
    "        self.a = tf.Variable(name=\"kernela\",\n",
    "            initial_value=a_init(shape=(input_shape[-1], self.units),\n",
    "                                 dtype='float32'),\n",
    "            trainable=True)\n",
    "        b_init = tf.random_normal_initializer()\n",
    "        self.b = tf.Variable(name=\"kernelb\",\n",
    "            initial_value=b_init(shape=(input_shape[-1], self.units),\n",
    "                                 dtype='float32'),\n",
    "            trainable=True)\n",
    "        c_init = tf.zeros_initializer()\n",
    "        self.c = tf.Variable(name=\"bias\", initial_value=c_init(shape=(self.units,), dtype='float32'), trainable = True)\n",
    "        super().build(input_shape)\n",
    "        \n",
    "    def call(self, inputs):\n",
    "        computation = tf.matmul(tf.math.square(inputs), self.a) + tf.matmul(inputs, self.b) + self.c\n",
    "        return self.activation(computation)"
   ]
  },
  {
   "cell_type": "code",
   "execution_count": 9,
   "id": "be14e194",
   "metadata": {},
   "outputs": [],
   "source": [
    "mnist = tf.keras.datasets.mnist\n",
    "\n",
    "(x_train, y_train),(x_test, y_test) = mnist.load_data()\n",
    "x_train, x_test = x_train / 255.0, x_test / 255.0"
   ]
  },
  {
   "cell_type": "code",
   "execution_count": 12,
   "id": "de517566",
   "metadata": {},
   "outputs": [
    {
     "name": "stdout",
     "output_type": "stream",
     "text": [
      "Epoch 1/5\n"
     ]
    },
    {
     "name": "stderr",
     "output_type": "stream",
     "text": [
      "C:\\Users\\rodri\\Anaconda3\\lib\\site-packages\\keras\\backend.py:4906: UserWarning: \"`sparse_categorical_crossentropy` received `from_logits=True`, but the `output` argument was produced by a sigmoid or softmax activation and thus does not represent logits. Was this intended?\"\n",
      "  warnings.warn(\n"
     ]
    },
    {
     "name": "stdout",
     "output_type": "stream",
     "text": [
      "1875/1875 [==============================] - 7s 3ms/step - loss: 0.2712 - accuracy: 0.9203 - val_loss: 0.1296 - val_accuracy: 0.9606\n",
      "Epoch 2/5\n",
      "1875/1875 [==============================] - 4s 2ms/step - loss: 0.1312 - accuracy: 0.9607 - val_loss: 0.0922 - val_accuracy: 0.9709\n",
      "Epoch 3/5\n",
      "1875/1875 [==============================] - 4s 2ms/step - loss: 0.0987 - accuracy: 0.9698 - val_loss: 0.0872 - val_accuracy: 0.9743\n",
      "Epoch 4/5\n",
      "1875/1875 [==============================] - 4s 2ms/step - loss: 0.0867 - accuracy: 0.9726 - val_loss: 0.0841 - val_accuracy: 0.9742\n",
      "Epoch 5/5\n",
      "1875/1875 [==============================] - 5s 2ms/step - loss: 0.0718 - accuracy: 0.9773 - val_loss: 0.0765 - val_accuracy: 0.9764\n"
     ]
    },
    {
     "data": {
      "text/plain": [
       "<keras.callbacks.History at 0x1d7879d64f0>"
      ]
     },
     "execution_count": 12,
     "metadata": {},
     "output_type": "execute_result"
    }
   ],
   "source": [
    "model = tf.keras.models.Sequential([\n",
    "    tf.keras.layers.Flatten(input_shape=(28,28)),\n",
    "    SimpleQuadratic(128, activation='relu'),\n",
    "    tf.keras.layers.Dropout(0.2),\n",
    "    tf.keras.layers.Dense(10, activation='softmax')\n",
    "])\n",
    "\n",
    "model.compile(optimizer='adam', \n",
    "             loss = tf.keras.losses.SparseCategoricalCrossentropy(from_logits=True),\n",
    "             metrics = ['accuracy'])\n",
    "model.fit(x_train, y_train, epochs = 5, validation_data = (x_test, y_test))"
   ]
  },
  {
   "cell_type": "code",
   "execution_count": null,
   "id": "d16b577f",
   "metadata": {},
   "outputs": [],
   "source": []
  }
 ],
 "metadata": {
  "kernelspec": {
   "display_name": "Python 3 (ipykernel)",
   "language": "python",
   "name": "python3"
  },
  "language_info": {
   "codemirror_mode": {
    "name": "ipython",
    "version": 3
   },
   "file_extension": ".py",
   "mimetype": "text/x-python",
   "name": "python",
   "nbconvert_exporter": "python",
   "pygments_lexer": "ipython3",
   "version": "3.8.8"
  }
 },
 "nbformat": 4,
 "nbformat_minor": 5
}
